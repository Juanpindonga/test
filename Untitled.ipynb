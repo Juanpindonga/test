{
 "cells": [
  {
   "cell_type": "markdown",
   "metadata": {},
   "source": [
    "# TEORIA DE CIRCUITOS II: PROBLEMA DESAFIO"
   ]
  },
  {
   "cell_type": "raw",
   "metadata": {},
   "source": [
    "Se pide diseñar un filtro pasabajo que satisfaga la siguiente plantilla:\n",
    "\n",
    "ωp=500 Hz\n",
    "ωs=1500 Hz\n",
    "αmax=1 dB\n",
    "αmin=18 dB\n",
    "\n",
    "a) Determine si el siguiente diseño puede realizarse con una sola sección de segundo orden cuya respuesta de módulo es de máxima planicidad.\n",
    "\n",
    "Aplicando la formula para el cálculo del N en la aproximación de máxima planicidad obtenemos N=3.\n",
    "Por lo tanto no es posible usar esta aproximación."
   ]
  },
  {
   "cell_type": "markdown",
   "metadata": {},
   "source": [
    "<img src=\"cap1.png\">"
   ]
  },
  {
   "cell_type": "raw",
   "metadata": {},
   "source": [
    "b) Si el mismo diseño se planteara mediante una aproximación Chebyshev, se pide:\n",
    "\n",
    "La función transferencia normalizada.\n",
    "Las respuestas de módulo, fase y la localización de polos y ceros.\n"
   ]
  },
  {
   "cell_type": "markdown",
   "metadata": {},
   "source": [
    "<img src=\"cap2.png\">"
   ]
  },
  {
   "cell_type": "markdown",
   "metadata": {},
   "source": [
    "<img src=\"cap3.png\">"
   ]
  },
  {
   "cell_type": "markdown",
   "metadata": {},
   "source": [
    "Resulta entonces : \n",
    "\n",
    "N = 2\n",
    "Ubicación de los polos en : -0,547 +- 0,849j\n",
    "\n",
    "Usando las formulas del schaumann para construir la transferencia a partir del W0 y del Q tenemos:"
   ]
  },
  {
   "cell_type": "markdown",
   "metadata": {},
   "source": [
    "<img src=\"cap10.png\">"
   ]
  },
  {
   "cell_type": "markdown",
   "metadata": {},
   "source": [
    "# Respuestas de módulo, fase y ubicación de polos y ceros:"
   ]
  },
  {
   "cell_type": "markdown",
   "metadata": {},
   "source": [
    "<img src=\"cap8.png\">"
   ]
  },
  {
   "cell_type": "markdown",
   "metadata": {},
   "source": [
    "<img src=\"cap9.png\">"
   ]
  },
  {
   "cell_type": "markdown",
   "metadata": {},
   "source": [
    "# Implementación con Ackerberg"
   ]
  },
  {
   "cell_type": "markdown",
   "metadata": {},
   "source": [
    "<img src=\"cap5.png\">"
   ]
  },
  {
   "cell_type": "markdown",
   "metadata": {},
   "source": [
    "Los valores de los componentes serán entonces:"
   ]
  },
  {
   "cell_type": "markdown",
   "metadata": {},
   "source": [
    "<img src=\"cap11.png\">"
   ]
  },
  {
   "cell_type": "markdown",
   "metadata": {},
   "source": [
    "<img src=\"cap12.png\">"
   ]
  },
  {
   "cell_type": "markdown",
   "metadata": {},
   "source": [
    "Luego para acomodar el filtro a la frecuencia deseada se debe aplicar una desnormalización en frecuecia con : Wn = 2pi*500hz.\n",
    "\n",
    "El valor de los capacitores se modificara, C = C'/Wn ; y los resistores tendran el mismo valor."
   ]
  }
 ],
 "metadata": {
  "language_info": {
   "codemirror_mode": {
    "name": "ipython",
    "version": 3
   },
   "file_extension": ".py",
   "mimetype": "text/x-python",
   "name": "python",
   "nbconvert_exporter": "python",
   "pygments_lexer": "ipython3",
   "version": "3.7.0"
  }
 },
 "nbformat": 4,
 "nbformat_minor": 4
}
